{
 "cells": [
  {
   "cell_type": "markdown",
   "metadata": {},
   "source": [
    "# Methods\n",
    "\n",
    "<b>df.drop_duplicates</b>() - drops all duplicate values\n",
    " * inplace = True inside brackets performs the method on the dataframe itself instead of creating a new one\n",
    "\n",
    "<b>df.column_name.isin</b>([]) - returns corresponding boolean values to if value in column is inside given list\n",
    " * must be in list inside bracket\n",
    "\n",
    "<b>df.column_name.isnull/notnull</b>() - returns corresponding boolean values to if value in column is null/not null (NAN)\n",
    "\n",
    "<b>df.sample</b>(frac/n) - returns a random part of the dataframe by a fraction/number of columns\n",
    "\n",
    "<b>df.nlargest/nsmallest</b>(n, column_name) - shows n largest/smallest number of items in specified column\n",
    "\n",
    "<b>df.filter</b>(regex) - filters specific columns matching condition under regex\n",
    "\n",
    "<b>df.nunique</b>() - number of unique values in column\n",
    "\n",
    "<b>df.assign</b>() - appends a new column onto the existing dataframe\n",
    " * format: column = values or lambda x\n",
    "\n",
    "<b>pd.qcut</b>(dataframe_name, cut_levels, labels) - for a dataframe/column, divide into cut_level levels and change values\n",
    "according to the label\n",
    "\n",
    "<b>df[column_name].clip</b>() - \n",
    "\n",
    "<b>df[column_name].abs</b>() - returns all numbers under absolute value\n",
    "\n",
    "<b>pd.concat</b>() - adds two series/dataframes by row (while merge adds them by columns)\n",
    " * must have same column names in order to add them together. If a column name does not match, the values are filled in as NA\n",
    " \n"
   ]
  },
  {
   "cell_type": "code",
   "execution_count": null,
   "metadata": {},
   "outputs": [],
   "source": []
  }
 ],
 "metadata": {
  "kernelspec": {
   "display_name": "Python 3",
   "language": "python",
   "name": "python3"
  },
  "language_info": {
   "codemirror_mode": {
    "name": "ipython",
    "version": 3
   },
   "file_extension": ".py",
   "mimetype": "text/x-python",
   "name": "python",
   "nbconvert_exporter": "python",
   "pygments_lexer": "ipython3",
   "version": "3.7.6"
  },
  "toc": {
   "base_numbering": 1,
   "nav_menu": {},
   "number_sections": true,
   "sideBar": true,
   "skip_h1_title": false,
   "title_cell": "Table of Contents",
   "title_sidebar": "Contents",
   "toc_cell": false,
   "toc_position": {},
   "toc_section_display": true,
   "toc_window_display": false
  }
 },
 "nbformat": 4,
 "nbformat_minor": 4
}
