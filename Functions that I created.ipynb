{
 "cells": [
  {
   "cell_type": "markdown",
   "metadata": {},
   "source": [
    "# ARIMA Grid Search"
   ]
  },
  {
   "cell_type": "code",
   "execution_count": 1,
   "metadata": {},
   "outputs": [],
   "source": [
    "# 각 업종별 최적 hyperparameter와 RMSE 계산 함수\n",
    "import itertools\n",
    "def gridARIMA(train_series, test_series): # 특정 업종명의 날짜별로 수합 된 판매건수의 훈련 & 검증셋을 각각 받음\n",
    "  # 실험용 pdq (무시)\n",
    "  # p = q = d = range(0, 2)\n",
    "  # 실제 pdq 값: p와 q는 0-7, d는 0-1\n",
    "  p = q = range(0, 8)\n",
    "  d = range(0, 2)\n",
    "  \n",
    "  # 최적의 hyperparameter와 RMSE를 계산 후 넣을 dictionary\n",
    "  rmse = {}\n",
    "\n",
    "  # pdq의 모든 조합 만들기\n",
    "  pdq = list(itertools.product(p, d, q))\n",
    "\n",
    "  # trend에 들어갈 값\n",
    "  trend = ['c', 'nc']\n",
    "\n",
    "  for param in pdq: # 각 pdq 조합별\n",
    "    for item in trend: # 각 trend값 마다\n",
    "      try:\n",
    "        # 모델 구축\n",
    "        model = ARIMA(train_series, order = param)\n",
    "        model_fit = model.fit(trend = item, full_output = True, disp = 1)\n",
    "        output = model_fit.forecast(steps = 31) # 예측값\n",
    "\n",
    "        # 검증셋에 빈 날짜가 있을경우 RMSE 계산을 할 수 없으니, 예측값으로 채운 후 날짜로 정렬\n",
    "        if len(pd.date_range('20200515', '20200614')[~pd.date_range('20200515', '20200614').isin(test_series.index)]):\n",
    "          for date in pd.date_range('20200515', '20200614')[~pd.date_range('20200515', '20200614').isin(test_series.index)]:\n",
    "            test_series.loc[date] = output[0][pd.date_range('20200515', '20200614').get_loc(date)]\n",
    "        test_series = test_series.sort_index()\n",
    "        \n",
    "        # RMSE 계산 (key는 order와 trend에 들어가는 값 둘 다 가져오기 위해 같은 문자열에 넣고 추후 split으로 각각 구함)\n",
    "        rmse[f'{param}|{item}'] = np.sqrt(mean_squared_error(test_series, output[0]))\n",
    "      \n",
    "      # 에러가 나면 멈추지 않고 다음 순서로 넘어감\n",
    "      except: \n",
    "        continue\n",
    "  # RMSE가 제일 낮은 조합 찾기\n",
    "  key = min(rmse, key = rmse.get)\n",
    "  # order와 trend hyperparameter로 나누기\n",
    "  key_split = key.split('|')\n",
    "  # order이 문자열로 되어있어 모델에 넣을 수 없으니, 넣을 수 있는 형식으로 변환\n",
    "  key_split[0] = eval(key_split[0])\n",
    "  # 업종명의 최적 hyperparameter (key_split)과 그 조합의 RMSE값을 리스트에 담아 반환\n",
    "  return [key_split, rmse[key]]"
   ]
  },
  {
   "cell_type": "markdown",
   "metadata": {},
   "source": [
    "# Applying Grid Search to get Predictions"
   ]
  },
  {
   "cell_type": "code",
   "execution_count": null,
   "metadata": {},
   "outputs": [],
   "source": [
    "# 30일주기 제외 모든 업종명의 예측값과 RMSE 담기\n",
    "def ARIMA_by_ind(df): # 전체 데이터 받음\n",
    "  # 제외할 업종명\n",
    "  day30 = ['생명보험', '소프트웨어', '가전제품', '전자상거래상품권전문판매', '정수기', '정기간행물', \n",
    "           '대형할인점', '통신기기', '위성방송', '통신판매', '전자상거래상품권', '학습지교육']\n",
    "  \n",
    "  # 결과를 담을 dictionary\n",
    "  pred = {}\n",
    "  \n",
    "  # 모든 업종명\n",
    "  names = df['업종명'].unique()\n",
    "  \n",
    "  # 훈련 & 검증셋 날짜기준 분할\n",
    "  train = df[~df['날짜'].isin(pd.date_range('20200515', '20200614'))]\n",
    "  test = df[df['날짜'].isin(pd.date_range('20200515', '20200614'))]\n",
    "  \n",
    "  for name in names: # 각 업종명별\n",
    "    if name not in day30: # 제외하는 목록에 있지 않다면\n",
    "      # 업종명의 날짜별 판매건수를 훈련 & 검증셋 내에서 수합\n",
    "      train_ind = train[train['업종명'] == name].groupby('날짜')['판매건수'].sum()\n",
    "      test_ind = test[test['업종명'] == name].groupby('날짜')['판매건수'].sum()\n",
    "      \n",
    "      # 최적의 hyperparameter와 \n",
    "      best_param = gridARIMA(train_ind, test_ind)\n",
    "\n",
    "      # 모델링\n",
    "      model = ARIMA(train_ind, order = best_param[0][0])\n",
    "      model_fit = model.fit(trend = best_param[0][1], full_output = True, disp = 1)\n",
    "      \n",
    "      # 예측값\n",
    "      output = model_fit.forecast(steps = 31)\n",
    "      \n",
    "      # 결과를 담을 딕셔너리 안에 key를 업종명, value를 예측값과 RMSE가 담긴 리스트로 지정\n",
    "      pred[name] = [output[0], best_param[1]]\n",
    "  # 모든 업종명 계산 후 반환\n",
    "  return pred"
   ]
  }
 ],
 "metadata": {
  "kernelspec": {
   "display_name": "Python 3",
   "language": "python",
   "name": "python3"
  },
  "language_info": {
   "codemirror_mode": {
    "name": "ipython",
    "version": 3
   },
   "file_extension": ".py",
   "mimetype": "text/x-python",
   "name": "python",
   "nbconvert_exporter": "python",
   "pygments_lexer": "ipython3",
   "version": "3.7.6"
  },
  "toc": {
   "base_numbering": 1,
   "nav_menu": {},
   "number_sections": true,
   "sideBar": true,
   "skip_h1_title": false,
   "title_cell": "Table of Contents",
   "title_sidebar": "Contents",
   "toc_cell": false,
   "toc_position": {},
   "toc_section_display": true,
   "toc_window_display": false
  }
 },
 "nbformat": 4,
 "nbformat_minor": 4
}
