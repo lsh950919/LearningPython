{
  "nbformat": 4,
  "nbformat_minor": 0,
  "metadata": {
    "colab": {
      "name": "MFA_on_Colab_with_conda.ipynb",
      "provenance": [],
      "collapsed_sections": [],
      "include_colab_link": true
    },
    "kernelspec": {
      "name": "python3",
      "display_name": "Python 3"
    }
  },
  "cells": [
    {
      "cell_type": "markdown",
      "metadata": {
        "id": "view-in-github",
        "colab_type": "text"
      },
      "source": [
        "<a href=\"https://colab.research.google.com/github/lsh950919/LearningPython/blob/master/MFA_on_Colab_with_conda.ipynb\" target=\"_parent\"><img src=\"https://colab.research.google.com/assets/colab-badge.svg\" alt=\"Open In Colab\"/></a>"
      ]
    },
    {
      "cell_type": "markdown",
      "metadata": {
        "id": "XdvTOK-izxl8"
      },
      "source": [
        "##코랩에서 아나콘다 패키지 사용하기##\n",
        "\n",
        "이 노트북은 코랩 환경에서 아나콘다 가상환경을 설치하고 MFA를 실행할 수 있게 해주는 코드입니다."
      ]
    },
    {
      "cell_type": "code",
      "metadata": {
        "colab": {
          "base_uri": "https://localhost:8080/"
        },
        "id": "JF72CnNksyf1",
        "outputId": "fba4bdd1-5f2a-449b-ef83-7122ac5d8157"
      },
      "source": [
        "from google.colab import drive\n",
        "drive.mount('/content/drive', force_remount=True)"
      ],
      "execution_count": null,
      "outputs": [
        {
          "output_type": "stream",
          "text": [
            "Mounted at /content/drive\n"
          ],
          "name": "stdout"
        }
      ]
    },
    {
      "cell_type": "code",
      "metadata": {
        "colab": {
          "base_uri": "https://localhost:8080/"
        },
        "id": "yVN71VD0w5wb",
        "outputId": "1763e95e-f506-4e21-f01a-904b39d1a602"
      },
      "source": [
        "!which python"
      ],
      "execution_count": null,
      "outputs": [
        {
          "output_type": "stream",
          "text": [
            "/usr/local/bin/python\n"
          ],
          "name": "stdout"
        }
      ]
    },
    {
      "cell_type": "code",
      "metadata": {
        "colab": {
          "base_uri": "https://localhost:8080/"
        },
        "id": "aET3l231xSy9",
        "outputId": "e8f74066-1fff-4443-d2ce-693f95330e86"
      },
      "source": [
        "!python --version"
      ],
      "execution_count": null,
      "outputs": [
        {
          "output_type": "stream",
          "text": [
            "Python 3.7.10\n"
          ],
          "name": "stdout"
        }
      ]
    },
    {
      "cell_type": "code",
      "metadata": {
        "colab": {
          "base_uri": "https://localhost:8080/"
        },
        "id": "OKskyac-yHTh",
        "outputId": "2f86c3f6-685b-46bd-d493-8c3f3ebd70ac"
      },
      "source": [
        "!echo $PYTHONPATH"
      ],
      "execution_count": null,
      "outputs": [
        {
          "output_type": "stream",
          "text": [
            "\n"
          ],
          "name": "stdout"
        }
      ]
    },
    {
      "cell_type": "code",
      "metadata": {
        "colab": {
          "base_uri": "https://localhost:8080/"
        },
        "id": "goNGGDTzyVCc",
        "outputId": "b3e5d6c1-8f23-4ec6-e835-a59c05ba1813"
      },
      "source": [
        "#PYTHONPATH를 unset해야한다. \n",
        "#위에 처럼 세팅된 디렉토리로 놔두면, 접근 에러가 발생할 수 있다.\n",
        "%env PYTHONPATH="
      ],
      "execution_count": null,
      "outputs": [
        {
          "output_type": "stream",
          "text": [
            "env: PYTHONPATH=\n"
          ],
          "name": "stdout"
        }
      ]
    },
    {
      "cell_type": "markdown",
      "metadata": {
        "id": "yAiL0_8vzojW"
      },
      "source": [
        "##Miniconda 설치##"
      ]
    },
    {
      "cell_type": "code",
      "metadata": {
        "id": "nzQ-ZySiyfQw"
      },
      "source": [
        "%%bash\n",
        "\n",
        "MINICONDA_INSTALLER_SCRIPT=Miniconda3-4.5.4-Linux-x86_64.sh\n",
        "MINICONDA_PREFIX=/usr/local\n",
        "wget https://repo.continuum.io/miniconda/$MINICONDA_INSTALLER_SCRIPT\n",
        "chmod +x $MINICONDA_INSTALLER_SCRIPT\n",
        "./$MINICONDA_INSTALLER_SCRIPT -b -f -p $MINICONDA_PREFIX"
      ],
      "execution_count": null,
      "outputs": []
    },
    {
      "cell_type": "code",
      "metadata": {
        "colab": {
          "base_uri": "https://localhost:8080/"
        },
        "id": "KHfm7v77zLR-",
        "outputId": "119419cc-d860-496d-f3cf-0f92e40915d2"
      },
      "source": [
        "!which conda"
      ],
      "execution_count": null,
      "outputs": [
        {
          "output_type": "stream",
          "text": [
            "/usr/local/bin/conda\n"
          ],
          "name": "stdout"
        }
      ]
    },
    {
      "cell_type": "code",
      "metadata": {
        "colab": {
          "base_uri": "https://localhost:8080/"
        },
        "id": "5JfcOer0zWjk",
        "outputId": "363e8635-be2b-41f6-a915-67f48d4af64a"
      },
      "source": [
        "!conda --version"
      ],
      "execution_count": null,
      "outputs": [
        {
          "output_type": "stream",
          "text": [
            "conda 4.5.4\n"
          ],
          "name": "stdout"
        }
      ]
    },
    {
      "cell_type": "code",
      "metadata": {
        "colab": {
          "base_uri": "https://localhost:8080/"
        },
        "id": "nZ7ojlTlodLa",
        "outputId": "dc5b778e-2830-4045-e33a-852345e9dce2"
      },
      "source": [
        "# 파이썬 버전이 3.7.10 -> 3.6.5 로 다운그레이드 됨\n",
        "\n",
        "!python --version"
      ],
      "execution_count": null,
      "outputs": [
        {
          "output_type": "stream",
          "text": [
            "Python 3.6.5 :: Anaconda, Inc.\n"
          ],
          "name": "stdout"
        }
      ]
    },
    {
      "cell_type": "code",
      "metadata": {
        "id": "wbGvqAn6dKBn"
      },
      "source": [
        "# 최신 버전으로 콘다 업데이트\n",
        "\n",
        "!conda update -n base conda --yes\n",
        "!conda update --all --yes"
      ],
      "execution_count": null,
      "outputs": []
    },
    {
      "cell_type": "code",
      "metadata": {
        "id": "mHvU-515o2B3"
      },
      "source": [
        "# python=3.8로 업데이트\n",
        "\n",
        "%%bash\n",
        "conda install --channel defaults conda python=3.8 --yes\n",
        "conda update --channel defaults --all --yes"
      ],
      "execution_count": null,
      "outputs": []
    },
    {
      "cell_type": "code",
      "metadata": {
        "colab": {
          "base_uri": "https://localhost:8080/"
        },
        "id": "hJ8CW54Ko90f",
        "outputId": "9aa85bd3-b58a-4930-acf6-d7221dfe3fe1"
      },
      "source": [
        "!python --version"
      ],
      "execution_count": null,
      "outputs": [
        {
          "output_type": "stream",
          "text": [
            "Python 3.8.10\n"
          ],
          "name": "stdout"
        }
      ]
    },
    {
      "cell_type": "code",
      "metadata": {
        "id": "VimFIPNFeVNF",
        "colab": {
          "base_uri": "https://localhost:8080/"
        },
        "outputId": "0fe68a97-799a-4799-c6a3-758dd2445dae"
      },
      "source": [
        "!conda --version"
      ],
      "execution_count": null,
      "outputs": [
        {
          "output_type": "stream",
          "text": [
            "conda 4.10.1\n"
          ],
          "name": "stdout"
        }
      ]
    },
    {
      "cell_type": "code",
      "metadata": {
        "id": "A4t_B2HwpU6C"
      },
      "source": [
        "!conda install --channel conda-forge featuretools --yes"
      ],
      "execution_count": null,
      "outputs": []
    },
    {
      "cell_type": "code",
      "metadata": {
        "id": "NTMcGtJXpZXE"
      },
      "source": [
        "# create a virtual-env for MFA\n",
        "\n",
        "!conda create -n aligner -c conda-forge openblas python=3.8 openfst pynini ngram baumwelch --yes"
      ],
      "execution_count": null,
      "outputs": []
    },
    {
      "cell_type": "code",
      "metadata": {
        "colab": {
          "base_uri": "https://localhost:8080/"
        },
        "id": "Hf-Zn0Lh9TVV",
        "outputId": "d75539db-edc8-49c8-de9c-c97b5d7fdfe0"
      },
      "source": [
        "!python --version"
      ],
      "execution_count": null,
      "outputs": [
        {
          "output_type": "stream",
          "text": [
            "Python 3.8.10\n"
          ],
          "name": "stdout"
        }
      ]
    },
    {
      "cell_type": "code",
      "metadata": {
        "colab": {
          "base_uri": "https://localhost:8080/"
        },
        "id": "yuNiL_Rf9e93",
        "outputId": "6cecc565-5a19-4624-d705-19e51e288b1e"
      },
      "source": [
        "%%bash\n",
        "conda info --envs"
      ],
      "execution_count": null,
      "outputs": [
        {
          "output_type": "stream",
          "text": [
            "# conda environments:\n",
            "#\n",
            "base                  *  /usr/local\n",
            "aligner                  /usr/local/envs/aligner\n",
            "\n"
          ],
          "name": "stdout"
        }
      ]
    },
    {
      "cell_type": "code",
      "metadata": {
        "id": "zqhFzsJ1nHC3"
      },
      "source": [
        "!source activate aligner"
      ],
      "execution_count": null,
      "outputs": []
    },
    {
      "cell_type": "code",
      "metadata": {
        "id": "oeep8Nwx-OSR"
      },
      "source": [
        "!pip install montreal-forced-aligner"
      ],
      "execution_count": null,
      "outputs": []
    },
    {
      "cell_type": "code",
      "metadata": {
        "id": "5pCa9S-Bi_YL",
        "colab": {
          "base_uri": "https://localhost:8080/"
        },
        "outputId": "40f6aa56-7ffa-4bbd-e30a-e5dec011cfa2"
      },
      "source": [
        "!mfa thirdparty download"
      ],
      "execution_count": null,
      "outputs": [
        {
          "output_type": "stream",
          "text": [
            "73.2MB [00:01, 71.4MB/s]               \n"
          ],
          "name": "stdout"
        }
      ]
    },
    {
      "cell_type": "code",
      "metadata": {
        "colab": {
          "base_uri": "https://localhost:8080/"
        },
        "id": "F6ek5Boyqe_f",
        "outputId": "f43afca1-f8a2-46f4-99a3-9fb0fa7f6c32"
      },
      "source": [
        "!mfa thirdparty validate"
      ],
      "execution_count": null,
      "outputs": [
        {
          "output_type": "stream",
          "text": [
            "All required kaldi binaries were found!\n"
          ],
          "name": "stdout"
        }
      ]
    },
    {
      "cell_type": "code",
      "metadata": {
        "id": "cRxqFHy-r7rE"
      },
      "source": [
        ""
      ],
      "execution_count": null,
      "outputs": []
    }
  ]
}